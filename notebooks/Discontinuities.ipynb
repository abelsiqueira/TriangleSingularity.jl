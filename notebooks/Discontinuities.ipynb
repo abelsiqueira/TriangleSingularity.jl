{
 "cells": [
  {
   "cell_type": "markdown",
   "metadata": {},
   "source": [
    "# Discontinuity"
   ]
  },
  {
   "cell_type": "code",
   "execution_count": null,
   "metadata": {
    "collapsed": true
   },
   "outputs": [],
   "source": [
    "Ftilde(s1,s2,s3,m1sq,m2sq,m3sq) =\n",
    "    (2s2*(m2sq-m1sq-s3)+(s+m1sq-m3sq)*(s2+s3-s1)) /\n",
    "    sqrt(λ(s2,m1sq,s3sq)*λ(s2,s3,s1))\n",
    "function discKsK(s1,s2,s3,m1sq,m2sq,m3sq)\n",
    "    Atilde = Ftilde(s1,s2,s3,m1sq,m2sq,m3sq)\n",
    "    1/(16π)/sqrt(λ(s2,s3,s1))*log((Atilde+1+1e-5im)/(Atilde-1+1e-5im))\n",
    "end"
   ]
  }
 ],
 "metadata": {
  "kernelspec": {
   "display_name": "Julia 0.7.0",
   "language": "julia",
   "name": "julia-0.7"
  },
  "language_info": {
   "file_extension": ".jl",
   "mimetype": "application/julia",
   "name": "julia",
   "version": "0.7.0"
  }
 },
 "nbformat": 4,
 "nbformat_minor": 0
}
